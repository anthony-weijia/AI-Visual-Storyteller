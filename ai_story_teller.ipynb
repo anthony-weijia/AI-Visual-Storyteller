{
  "nbformat": 4,
  "nbformat_minor": 0,
  "metadata": {
    "colab": {
      "provenance": []
    },
    "kernelspec": {
      "name": "python3",
      "display_name": "Python 3"
    },
    "language_info": {
      "name": "python"
    },
    "widgets": {
      "application/vnd.jupyter.widget-state+json": {
        "ae89394af5bd411d9dc2151c407be333": {
          "model_module": "@jupyter-widgets/controls",
          "model_name": "VBoxModel",
          "model_module_version": "1.5.0",
          "state": {
            "_dom_classes": [],
            "_model_module": "@jupyter-widgets/controls",
            "_model_module_version": "1.5.0",
            "_model_name": "VBoxModel",
            "_view_count": null,
            "_view_module": "@jupyter-widgets/controls",
            "_view_module_version": "1.5.0",
            "_view_name": "VBoxView",
            "box_style": "",
            "children": [
              "IPY_MODEL_7f697958db024d349d8124c766e9d886",
              "IPY_MODEL_17d1a56403bf47709554d0d252651bc2",
              "IPY_MODEL_e0282ffa204e43de910fd57048bce07a"
            ],
            "layout": "IPY_MODEL_6da9033f73b441458bce041a31f8a20f"
          }
        },
        "7f697958db024d349d8124c766e9d886": {
          "model_module": "@jupyter-widgets/controls",
          "model_name": "TextModel",
          "model_module_version": "1.5.0",
          "state": {
            "_dom_classes": [],
            "_model_module": "@jupyter-widgets/controls",
            "_model_module_version": "1.5.0",
            "_model_name": "TextModel",
            "_view_count": null,
            "_view_module": "@jupyter-widgets/controls",
            "_view_module_version": "1.5.0",
            "_view_name": "TextView",
            "continuous_update": true,
            "description": "",
            "description_tooltip": null,
            "disabled": false,
            "layout": "IPY_MODEL_9a258b3f8e6f4a6aa34d1aaa938ef83c",
            "placeholder": "PDF Name",
            "style": "IPY_MODEL_a7200fb3527242ff8c71d71d5e36d5e7",
            "value": ""
          }
        },
        "17d1a56403bf47709554d0d252651bc2": {
          "model_module": "@jupyter-widgets/controls",
          "model_name": "ButtonModel",
          "model_module_version": "1.5.0",
          "state": {
            "_dom_classes": [],
            "_model_module": "@jupyter-widgets/controls",
            "_model_module_version": "1.5.0",
            "_model_name": "ButtonModel",
            "_view_count": null,
            "_view_module": "@jupyter-widgets/controls",
            "_view_module_version": "1.5.0",
            "_view_name": "ButtonView",
            "button_style": "",
            "description": "Visualize the PDF!",
            "disabled": false,
            "icon": "",
            "layout": "IPY_MODEL_220946b1f734498d82d94a0d445484e2",
            "style": "IPY_MODEL_691c07b4c4414593a4bb65525ecffbf8",
            "tooltip": ""
          }
        },
        "e0282ffa204e43de910fd57048bce07a": {
          "model_module": "@jupyter-widgets/output",
          "model_name": "OutputModel",
          "model_module_version": "1.0.0",
          "state": {
            "_dom_classes": [],
            "_model_module": "@jupyter-widgets/output",
            "_model_module_version": "1.0.0",
            "_model_name": "OutputModel",
            "_view_count": null,
            "_view_module": "@jupyter-widgets/output",
            "_view_module_version": "1.0.0",
            "_view_name": "OutputView",
            "layout": "IPY_MODEL_9359f3123bdf45fc9c8b266d3fe48cdf",
            "msg_id": "",
            "outputs": []
          }
        },
        "6da9033f73b441458bce041a31f8a20f": {
          "model_module": "@jupyter-widgets/base",
          "model_name": "LayoutModel",
          "model_module_version": "1.2.0",
          "state": {
            "_model_module": "@jupyter-widgets/base",
            "_model_module_version": "1.2.0",
            "_model_name": "LayoutModel",
            "_view_count": null,
            "_view_module": "@jupyter-widgets/base",
            "_view_module_version": "1.2.0",
            "_view_name": "LayoutView",
            "align_content": null,
            "align_items": null,
            "align_self": null,
            "border": null,
            "bottom": null,
            "display": null,
            "flex": null,
            "flex_flow": null,
            "grid_area": null,
            "grid_auto_columns": null,
            "grid_auto_flow": null,
            "grid_auto_rows": null,
            "grid_column": null,
            "grid_gap": null,
            "grid_row": null,
            "grid_template_areas": null,
            "grid_template_columns": null,
            "grid_template_rows": null,
            "height": null,
            "justify_content": null,
            "justify_items": null,
            "left": null,
            "margin": null,
            "max_height": null,
            "max_width": null,
            "min_height": null,
            "min_width": null,
            "object_fit": null,
            "object_position": null,
            "order": null,
            "overflow": null,
            "overflow_x": null,
            "overflow_y": null,
            "padding": null,
            "right": null,
            "top": null,
            "visibility": null,
            "width": null
          }
        },
        "9a258b3f8e6f4a6aa34d1aaa938ef83c": {
          "model_module": "@jupyter-widgets/base",
          "model_name": "LayoutModel",
          "model_module_version": "1.2.0",
          "state": {
            "_model_module": "@jupyter-widgets/base",
            "_model_module_version": "1.2.0",
            "_model_name": "LayoutModel",
            "_view_count": null,
            "_view_module": "@jupyter-widgets/base",
            "_view_module_version": "1.2.0",
            "_view_name": "LayoutView",
            "align_content": null,
            "align_items": null,
            "align_self": null,
            "border": null,
            "bottom": null,
            "display": null,
            "flex": null,
            "flex_flow": null,
            "grid_area": null,
            "grid_auto_columns": null,
            "grid_auto_flow": null,
            "grid_auto_rows": null,
            "grid_column": null,
            "grid_gap": null,
            "grid_row": null,
            "grid_template_areas": null,
            "grid_template_columns": null,
            "grid_template_rows": null,
            "height": null,
            "justify_content": null,
            "justify_items": null,
            "left": null,
            "margin": null,
            "max_height": null,
            "max_width": null,
            "min_height": null,
            "min_width": null,
            "object_fit": null,
            "object_position": null,
            "order": null,
            "overflow": null,
            "overflow_x": null,
            "overflow_y": null,
            "padding": null,
            "right": null,
            "top": null,
            "visibility": null,
            "width": null
          }
        },
        "a7200fb3527242ff8c71d71d5e36d5e7": {
          "model_module": "@jupyter-widgets/controls",
          "model_name": "DescriptionStyleModel",
          "model_module_version": "1.5.0",
          "state": {
            "_model_module": "@jupyter-widgets/controls",
            "_model_module_version": "1.5.0",
            "_model_name": "DescriptionStyleModel",
            "_view_count": null,
            "_view_module": "@jupyter-widgets/base",
            "_view_module_version": "1.2.0",
            "_view_name": "StyleView",
            "description_width": ""
          }
        },
        "220946b1f734498d82d94a0d445484e2": {
          "model_module": "@jupyter-widgets/base",
          "model_name": "LayoutModel",
          "model_module_version": "1.2.0",
          "state": {
            "_model_module": "@jupyter-widgets/base",
            "_model_module_version": "1.2.0",
            "_model_name": "LayoutModel",
            "_view_count": null,
            "_view_module": "@jupyter-widgets/base",
            "_view_module_version": "1.2.0",
            "_view_name": "LayoutView",
            "align_content": null,
            "align_items": null,
            "align_self": null,
            "border": null,
            "bottom": null,
            "display": null,
            "flex": null,
            "flex_flow": null,
            "grid_area": null,
            "grid_auto_columns": null,
            "grid_auto_flow": null,
            "grid_auto_rows": null,
            "grid_column": null,
            "grid_gap": null,
            "grid_row": null,
            "grid_template_areas": null,
            "grid_template_columns": null,
            "grid_template_rows": null,
            "height": null,
            "justify_content": null,
            "justify_items": null,
            "left": null,
            "margin": null,
            "max_height": null,
            "max_width": null,
            "min_height": null,
            "min_width": null,
            "object_fit": null,
            "object_position": null,
            "order": null,
            "overflow": null,
            "overflow_x": null,
            "overflow_y": null,
            "padding": null,
            "right": null,
            "top": null,
            "visibility": null,
            "width": null
          }
        },
        "691c07b4c4414593a4bb65525ecffbf8": {
          "model_module": "@jupyter-widgets/controls",
          "model_name": "ButtonStyleModel",
          "model_module_version": "1.5.0",
          "state": {
            "_model_module": "@jupyter-widgets/controls",
            "_model_module_version": "1.5.0",
            "_model_name": "ButtonStyleModel",
            "_view_count": null,
            "_view_module": "@jupyter-widgets/base",
            "_view_module_version": "1.2.0",
            "_view_name": "StyleView",
            "button_color": null,
            "font_weight": ""
          }
        },
        "9359f3123bdf45fc9c8b266d3fe48cdf": {
          "model_module": "@jupyter-widgets/base",
          "model_name": "LayoutModel",
          "model_module_version": "1.2.0",
          "state": {
            "_model_module": "@jupyter-widgets/base",
            "_model_module_version": "1.2.0",
            "_model_name": "LayoutModel",
            "_view_count": null,
            "_view_module": "@jupyter-widgets/base",
            "_view_module_version": "1.2.0",
            "_view_name": "LayoutView",
            "align_content": null,
            "align_items": null,
            "align_self": null,
            "border": null,
            "bottom": null,
            "display": null,
            "flex": null,
            "flex_flow": null,
            "grid_area": null,
            "grid_auto_columns": null,
            "grid_auto_flow": null,
            "grid_auto_rows": null,
            "grid_column": null,
            "grid_gap": null,
            "grid_row": null,
            "grid_template_areas": null,
            "grid_template_columns": null,
            "grid_template_rows": null,
            "height": null,
            "justify_content": null,
            "justify_items": null,
            "left": null,
            "margin": null,
            "max_height": null,
            "max_width": null,
            "min_height": null,
            "min_width": null,
            "object_fit": null,
            "object_position": null,
            "order": null,
            "overflow": null,
            "overflow_x": null,
            "overflow_y": null,
            "padding": null,
            "right": null,
            "top": null,
            "visibility": null,
            "width": null
          }
        }
      }
    }
  },
  "cells": [
    {
      "cell_type": "code",
      "execution_count": 1,
      "metadata": {
        "colab": {
          "base_uri": "https://localhost:8080/"
        },
        "id": "MXdq3KUHPEDd",
        "outputId": "5d87f36a-c56b-4003-bc9d-100e7357ed8e"
      },
      "outputs": [
        {
          "output_type": "stream",
          "name": "stdout",
          "text": [
            "\u001b[2K     \u001b[90m━━━━━━━━━━━━━━━━━━━━━━━━━━━━━━━━━━━━━━━━\u001b[0m \u001b[32m146.8/146.8 kB\u001b[0m \u001b[31m2.4 MB/s\u001b[0m eta \u001b[36m0:00:00\u001b[0m\n",
            "\u001b[2K     \u001b[90m━━━━━━━━━━━━━━━━━━━━━━━━━━━━━━━━━━━━━━━━\u001b[0m \u001b[32m664.5/664.5 kB\u001b[0m \u001b[31m9.9 MB/s\u001b[0m eta \u001b[36m0:00:00\u001b[0m\n",
            "Reading package lists... Done\n",
            "Building dependency tree... Done\n",
            "Reading state information... Done\n",
            "The following NEW packages will be installed:\n",
            "  poppler-utils\n",
            "0 upgraded, 1 newly installed, 0 to remove and 45 not upgraded.\n",
            "Need to get 186 kB of archives.\n",
            "After this operation, 696 kB of additional disk space will be used.\n",
            "Get:1 http://archive.ubuntu.com/ubuntu jammy-updates/main amd64 poppler-utils amd64 22.02.0-2ubuntu0.3 [186 kB]\n",
            "Fetched 186 kB in 0s (1,006 kB/s)\n",
            "Selecting previously unselected package poppler-utils.\n",
            "(Reading database ... 131015 files and directories currently installed.)\n",
            "Preparing to unpack .../poppler-utils_22.02.0-2ubuntu0.3_amd64.deb ...\n",
            "Unpacking poppler-utils (22.02.0-2ubuntu0.3) ...\n",
            "Setting up poppler-utils (22.02.0-2ubuntu0.3) ...\n",
            "Processing triggers for man-db (2.10.2-1) ...\n"
          ]
        }
      ],
      "source": [
        "!pip install -q -U google-generativeai\n",
        "!apt install poppler-utils"
      ]
    },
    {
      "cell_type": "code",
      "source": [
        "# Packages\n",
        "import pathlib\n",
        "import textwrap\n",
        "\n",
        "import google.generativeai as genai\n",
        "\n",
        "from IPython.display import display\n",
        "from IPython.display import Markdown\n",
        "\n",
        "\n",
        "def to_markdown(text):\n",
        "  text = text.replace('•', '  *')\n",
        "  return Markdown(textwrap.indent(text, '> ', predicate=lambda _: True))"
      ],
      "metadata": {
        "id": "lWGeyXooPKSS"
      },
      "execution_count": 4,
      "outputs": []
    },
    {
      "cell_type": "code",
      "source": [
        "# Used to securely store your API key\n",
        "from google.colab import userdata\n",
        "\n",
        "GOOGLE_API_KEY=userdata.get('GOOGLE_API_KEY')\n",
        "genai.configure(api_key=GOOGLE_API_KEY)"
      ],
      "metadata": {
        "id": "r1La63bhPKUw"
      },
      "execution_count": 5,
      "outputs": []
    },
    {
      "cell_type": "code",
      "source": [
        "video_file_name = \"/content/roman.mp4\"\n",
        "import cv2\n",
        "import os\n",
        "import shutil\n",
        "\n",
        "# Create or cleanup existing extracted image frames directory.\n",
        "FRAME_EXTRACTION_DIRECTORY = \"/content/frames\"\n",
        "FRAME_PREFIX = \"_frame\"\n",
        "def create_frame_output_dir(output_dir):\n",
        "  if not os.path.exists(output_dir):\n",
        "    os.makedirs(output_dir)\n",
        "  else:\n",
        "    shutil.rmtree(output_dir)\n",
        "    os.makedirs(output_dir)\n",
        "\n",
        "def extract_frame_from_video(video_file_path):\n",
        "  print(f\"Extracting {video_file_path} at 1 frame per second. This might take a bit...\")\n",
        "  create_frame_output_dir(FRAME_EXTRACTION_DIRECTORY)\n",
        "  vidcap = cv2.VideoCapture(video_file_path)\n",
        "  fps = vidcap.get(cv2.CAP_PROP_FPS)\n",
        "  print(fps)\n",
        "  frame_duration = 1 / fps  # Time interval between frames (in seconds)\n",
        "  output_file_prefix = os.path.basename(video_file_path).replace('.', '_')\n",
        "  frame_count = 0\n",
        "  count = 0\n",
        "  while vidcap.isOpened():\n",
        "      success, frame = vidcap.read()\n",
        "      if not success: # End of video\n",
        "          break\n",
        "      if int(count / fps) == frame_count: # Extract a frame every second\n",
        "          min = frame_count // 60\n",
        "          sec = frame_count % 60\n",
        "          time_string = f\"{min:02d}:{sec:02d}\"\n",
        "          image_name = f\"{output_file_prefix}{FRAME_PREFIX}{time_string}.jpg\"\n",
        "          output_filename = os.path.join(FRAME_EXTRACTION_DIRECTORY, image_name)\n",
        "          cv2.imwrite(output_filename, frame)\n",
        "          frame_count += 1\n",
        "      count += 1\n",
        "  vidcap.release() # Release the capture object\\n\",\n",
        "  print(f\"Completed video frame extraction!\\n\\nExtracted: {frame_count} frames\")\n",
        "\n",
        "extract_frame_from_video(video_file_name)\n"
      ],
      "metadata": {
        "colab": {
          "base_uri": "https://localhost:8080/"
        },
        "id": "NUzuf82wQgA_",
        "outputId": "d44dd1cc-922f-4857-a3e9-4bfcad58d791"
      },
      "execution_count": 45,
      "outputs": [
        {
          "output_type": "stream",
          "name": "stdout",
          "text": [
            "Extracting /content/roman.mp4 at 1 frame per second. This might take a bit...\n",
            "25.0\n",
            "Completed video frame extraction!\n",
            "\n",
            "Extracted: 207 frames\n"
          ]
        }
      ]
    },
    {
      "cell_type": "code",
      "source": [
        "import os\n",
        "\n",
        "class File:\n",
        "  def __init__(self, file_path: str, display_name: str = None):\n",
        "    self.file_path = file_path\n",
        "    if display_name:\n",
        "      self.display_name = display_name\n",
        "    self.timestamp = get_timestamp(file_path)\n",
        "\n",
        "  def set_file_response(self, response):\n",
        "    self.response = response\n",
        "\n",
        "def get_timestamp(filename):\n",
        "  \"\"\"Extracts the frame count (as an integer) from a filename with the format\n",
        "     'output_file_prefix_frame00:00.jpg'.\n",
        "  \"\"\"\n",
        "  parts = filename.split(FRAME_PREFIX)\n",
        "  if len(parts) != 2:\n",
        "      return None  # Indicates the filename might be incorrectly formatted\n",
        "  return parts[1].split('.')[0]\n",
        "\n",
        "# Process each frame in the output directory\n",
        "files = os.listdir(FRAME_EXTRACTION_DIRECTORY)\n",
        "files = sorted(files)\n",
        "files_to_upload = []\n",
        "for file in files:\n",
        "  files_to_upload.append(\n",
        "      File(file_path=os.path.join(FRAME_EXTRACTION_DIRECTORY, file)))\n",
        "\n",
        "# Upload the files to the API\n",
        "# Only upload a 10 second slice of files to reduce upload time.\n",
        "# Change full_video to True to upload the whole video.\n",
        "full_video = True\n",
        "\n",
        "uploaded_files = []\n",
        "print(f'Uploading {len(files_to_upload) if full_video else 10} files. This might take a bit...')\n",
        "\n",
        "for file in files_to_upload if full_video else files_to_upload[40:50]:\n",
        "  print(f'Uploading: {file.file_path}...')\n",
        "  response = genai.upload_file(path=file.file_path)\n",
        "  file.set_file_response(response)\n",
        "  uploaded_files.append(file)\n",
        "\n",
        "print(f\"Completed file uploads!\\n\\nUploaded: {len(uploaded_files)} files\")"
      ],
      "metadata": {
        "colab": {
          "base_uri": "https://localhost:8080/"
        },
        "id": "Bn2eZzByQnjK",
        "outputId": "3b4e728a-b89e-4fed-e99b-5d24866f1f96"
      },
      "execution_count": 46,
      "outputs": [
        {
          "output_type": "stream",
          "name": "stdout",
          "text": [
            "Uploading 207 files. This might take a bit...\n",
            "Uploading: /content/frames/roman_mp4_frame00:00.jpg...\n",
            "Uploading: /content/frames/roman_mp4_frame00:01.jpg...\n",
            "Uploading: /content/frames/roman_mp4_frame00:02.jpg...\n",
            "Uploading: /content/frames/roman_mp4_frame00:03.jpg...\n",
            "Uploading: /content/frames/roman_mp4_frame00:04.jpg...\n",
            "Uploading: /content/frames/roman_mp4_frame00:05.jpg...\n",
            "Uploading: /content/frames/roman_mp4_frame00:06.jpg...\n",
            "Uploading: /content/frames/roman_mp4_frame00:07.jpg...\n",
            "Uploading: /content/frames/roman_mp4_frame00:08.jpg...\n",
            "Uploading: /content/frames/roman_mp4_frame00:09.jpg...\n",
            "Uploading: /content/frames/roman_mp4_frame00:10.jpg...\n",
            "Uploading: /content/frames/roman_mp4_frame00:11.jpg...\n",
            "Uploading: /content/frames/roman_mp4_frame00:12.jpg...\n",
            "Uploading: /content/frames/roman_mp4_frame00:13.jpg...\n",
            "Uploading: /content/frames/roman_mp4_frame00:14.jpg...\n",
            "Uploading: /content/frames/roman_mp4_frame00:15.jpg...\n",
            "Uploading: /content/frames/roman_mp4_frame00:16.jpg...\n",
            "Uploading: /content/frames/roman_mp4_frame00:17.jpg...\n",
            "Uploading: /content/frames/roman_mp4_frame00:18.jpg...\n",
            "Uploading: /content/frames/roman_mp4_frame00:19.jpg...\n",
            "Uploading: /content/frames/roman_mp4_frame00:20.jpg...\n",
            "Uploading: /content/frames/roman_mp4_frame00:21.jpg...\n",
            "Uploading: /content/frames/roman_mp4_frame00:22.jpg...\n",
            "Uploading: /content/frames/roman_mp4_frame00:23.jpg...\n",
            "Uploading: /content/frames/roman_mp4_frame00:24.jpg...\n",
            "Uploading: /content/frames/roman_mp4_frame00:25.jpg...\n",
            "Uploading: /content/frames/roman_mp4_frame00:26.jpg...\n",
            "Uploading: /content/frames/roman_mp4_frame00:27.jpg...\n",
            "Uploading: /content/frames/roman_mp4_frame00:28.jpg...\n",
            "Uploading: /content/frames/roman_mp4_frame00:29.jpg...\n",
            "Uploading: /content/frames/roman_mp4_frame00:30.jpg...\n",
            "Uploading: /content/frames/roman_mp4_frame00:31.jpg...\n",
            "Uploading: /content/frames/roman_mp4_frame00:32.jpg...\n",
            "Uploading: /content/frames/roman_mp4_frame00:33.jpg...\n",
            "Uploading: /content/frames/roman_mp4_frame00:34.jpg...\n",
            "Uploading: /content/frames/roman_mp4_frame00:35.jpg...\n",
            "Uploading: /content/frames/roman_mp4_frame00:36.jpg...\n",
            "Uploading: /content/frames/roman_mp4_frame00:37.jpg...\n",
            "Uploading: /content/frames/roman_mp4_frame00:38.jpg...\n",
            "Uploading: /content/frames/roman_mp4_frame00:39.jpg...\n",
            "Uploading: /content/frames/roman_mp4_frame00:40.jpg...\n",
            "Uploading: /content/frames/roman_mp4_frame00:41.jpg...\n",
            "Uploading: /content/frames/roman_mp4_frame00:42.jpg...\n",
            "Uploading: /content/frames/roman_mp4_frame00:43.jpg...\n",
            "Uploading: /content/frames/roman_mp4_frame00:44.jpg...\n",
            "Uploading: /content/frames/roman_mp4_frame00:45.jpg...\n",
            "Uploading: /content/frames/roman_mp4_frame00:46.jpg...\n",
            "Uploading: /content/frames/roman_mp4_frame00:47.jpg...\n",
            "Uploading: /content/frames/roman_mp4_frame00:48.jpg...\n",
            "Uploading: /content/frames/roman_mp4_frame00:49.jpg...\n",
            "Uploading: /content/frames/roman_mp4_frame00:50.jpg...\n",
            "Uploading: /content/frames/roman_mp4_frame00:51.jpg...\n",
            "Uploading: /content/frames/roman_mp4_frame00:52.jpg...\n",
            "Uploading: /content/frames/roman_mp4_frame00:53.jpg...\n",
            "Uploading: /content/frames/roman_mp4_frame00:54.jpg...\n",
            "Uploading: /content/frames/roman_mp4_frame00:55.jpg...\n",
            "Uploading: /content/frames/roman_mp4_frame00:56.jpg...\n",
            "Uploading: /content/frames/roman_mp4_frame00:57.jpg...\n",
            "Uploading: /content/frames/roman_mp4_frame00:58.jpg...\n",
            "Uploading: /content/frames/roman_mp4_frame00:59.jpg...\n",
            "Uploading: /content/frames/roman_mp4_frame01:00.jpg...\n",
            "Uploading: /content/frames/roman_mp4_frame01:01.jpg...\n",
            "Uploading: /content/frames/roman_mp4_frame01:02.jpg...\n",
            "Uploading: /content/frames/roman_mp4_frame01:03.jpg...\n",
            "Uploading: /content/frames/roman_mp4_frame01:04.jpg...\n",
            "Uploading: /content/frames/roman_mp4_frame01:05.jpg...\n",
            "Uploading: /content/frames/roman_mp4_frame01:06.jpg...\n",
            "Uploading: /content/frames/roman_mp4_frame01:07.jpg...\n",
            "Uploading: /content/frames/roman_mp4_frame01:08.jpg...\n",
            "Uploading: /content/frames/roman_mp4_frame01:09.jpg...\n",
            "Uploading: /content/frames/roman_mp4_frame01:10.jpg...\n",
            "Uploading: /content/frames/roman_mp4_frame01:11.jpg...\n",
            "Uploading: /content/frames/roman_mp4_frame01:12.jpg...\n",
            "Uploading: /content/frames/roman_mp4_frame01:13.jpg...\n",
            "Uploading: /content/frames/roman_mp4_frame01:14.jpg...\n",
            "Uploading: /content/frames/roman_mp4_frame01:15.jpg...\n",
            "Uploading: /content/frames/roman_mp4_frame01:16.jpg...\n",
            "Uploading: /content/frames/roman_mp4_frame01:17.jpg...\n",
            "Uploading: /content/frames/roman_mp4_frame01:18.jpg...\n",
            "Uploading: /content/frames/roman_mp4_frame01:19.jpg...\n",
            "Uploading: /content/frames/roman_mp4_frame01:20.jpg...\n",
            "Uploading: /content/frames/roman_mp4_frame01:21.jpg...\n",
            "Uploading: /content/frames/roman_mp4_frame01:22.jpg...\n",
            "Uploading: /content/frames/roman_mp4_frame01:23.jpg...\n",
            "Uploading: /content/frames/roman_mp4_frame01:24.jpg...\n",
            "Uploading: /content/frames/roman_mp4_frame01:25.jpg...\n",
            "Uploading: /content/frames/roman_mp4_frame01:26.jpg...\n",
            "Uploading: /content/frames/roman_mp4_frame01:27.jpg...\n",
            "Uploading: /content/frames/roman_mp4_frame01:28.jpg...\n",
            "Uploading: /content/frames/roman_mp4_frame01:29.jpg...\n",
            "Uploading: /content/frames/roman_mp4_frame01:30.jpg...\n",
            "Uploading: /content/frames/roman_mp4_frame01:31.jpg...\n",
            "Uploading: /content/frames/roman_mp4_frame01:32.jpg...\n",
            "Uploading: /content/frames/roman_mp4_frame01:33.jpg...\n",
            "Uploading: /content/frames/roman_mp4_frame01:34.jpg...\n",
            "Uploading: /content/frames/roman_mp4_frame01:35.jpg...\n",
            "Uploading: /content/frames/roman_mp4_frame01:36.jpg...\n",
            "Uploading: /content/frames/roman_mp4_frame01:37.jpg...\n",
            "Uploading: /content/frames/roman_mp4_frame01:38.jpg...\n",
            "Uploading: /content/frames/roman_mp4_frame01:39.jpg...\n",
            "Uploading: /content/frames/roman_mp4_frame01:40.jpg...\n",
            "Uploading: /content/frames/roman_mp4_frame01:41.jpg...\n",
            "Uploading: /content/frames/roman_mp4_frame01:42.jpg...\n",
            "Uploading: /content/frames/roman_mp4_frame01:43.jpg...\n",
            "Uploading: /content/frames/roman_mp4_frame01:44.jpg...\n",
            "Uploading: /content/frames/roman_mp4_frame01:45.jpg...\n",
            "Uploading: /content/frames/roman_mp4_frame01:46.jpg...\n",
            "Uploading: /content/frames/roman_mp4_frame01:47.jpg...\n",
            "Uploading: /content/frames/roman_mp4_frame01:48.jpg...\n",
            "Uploading: /content/frames/roman_mp4_frame01:49.jpg...\n",
            "Uploading: /content/frames/roman_mp4_frame01:50.jpg...\n",
            "Uploading: /content/frames/roman_mp4_frame01:51.jpg...\n",
            "Uploading: /content/frames/roman_mp4_frame01:52.jpg...\n",
            "Uploading: /content/frames/roman_mp4_frame01:53.jpg...\n",
            "Uploading: /content/frames/roman_mp4_frame01:54.jpg...\n",
            "Uploading: /content/frames/roman_mp4_frame01:55.jpg...\n",
            "Uploading: /content/frames/roman_mp4_frame01:56.jpg...\n",
            "Uploading: /content/frames/roman_mp4_frame01:57.jpg...\n",
            "Uploading: /content/frames/roman_mp4_frame01:58.jpg...\n",
            "Uploading: /content/frames/roman_mp4_frame01:59.jpg...\n",
            "Uploading: /content/frames/roman_mp4_frame02:00.jpg...\n",
            "Uploading: /content/frames/roman_mp4_frame02:01.jpg...\n",
            "Uploading: /content/frames/roman_mp4_frame02:02.jpg...\n",
            "Uploading: /content/frames/roman_mp4_frame02:03.jpg...\n",
            "Uploading: /content/frames/roman_mp4_frame02:04.jpg...\n",
            "Uploading: /content/frames/roman_mp4_frame02:05.jpg...\n",
            "Uploading: /content/frames/roman_mp4_frame02:06.jpg...\n",
            "Uploading: /content/frames/roman_mp4_frame02:07.jpg...\n",
            "Uploading: /content/frames/roman_mp4_frame02:08.jpg...\n",
            "Uploading: /content/frames/roman_mp4_frame02:09.jpg...\n",
            "Uploading: /content/frames/roman_mp4_frame02:10.jpg...\n",
            "Uploading: /content/frames/roman_mp4_frame02:11.jpg...\n",
            "Uploading: /content/frames/roman_mp4_frame02:12.jpg...\n",
            "Uploading: /content/frames/roman_mp4_frame02:13.jpg...\n",
            "Uploading: /content/frames/roman_mp4_frame02:14.jpg...\n",
            "Uploading: /content/frames/roman_mp4_frame02:15.jpg...\n",
            "Uploading: /content/frames/roman_mp4_frame02:16.jpg...\n",
            "Uploading: /content/frames/roman_mp4_frame02:17.jpg...\n",
            "Uploading: /content/frames/roman_mp4_frame02:18.jpg...\n",
            "Uploading: /content/frames/roman_mp4_frame02:19.jpg...\n",
            "Uploading: /content/frames/roman_mp4_frame02:20.jpg...\n",
            "Uploading: /content/frames/roman_mp4_frame02:21.jpg...\n",
            "Uploading: /content/frames/roman_mp4_frame02:22.jpg...\n",
            "Uploading: /content/frames/roman_mp4_frame02:23.jpg...\n",
            "Uploading: /content/frames/roman_mp4_frame02:24.jpg...\n",
            "Uploading: /content/frames/roman_mp4_frame02:25.jpg...\n",
            "Uploading: /content/frames/roman_mp4_frame02:26.jpg...\n",
            "Uploading: /content/frames/roman_mp4_frame02:27.jpg...\n",
            "Uploading: /content/frames/roman_mp4_frame02:28.jpg...\n",
            "Uploading: /content/frames/roman_mp4_frame02:29.jpg...\n",
            "Uploading: /content/frames/roman_mp4_frame02:30.jpg...\n",
            "Uploading: /content/frames/roman_mp4_frame02:31.jpg...\n",
            "Uploading: /content/frames/roman_mp4_frame02:32.jpg...\n",
            "Uploading: /content/frames/roman_mp4_frame02:33.jpg...\n",
            "Uploading: /content/frames/roman_mp4_frame02:34.jpg...\n",
            "Uploading: /content/frames/roman_mp4_frame02:35.jpg...\n",
            "Uploading: /content/frames/roman_mp4_frame02:36.jpg...\n",
            "Uploading: /content/frames/roman_mp4_frame02:37.jpg...\n",
            "Uploading: /content/frames/roman_mp4_frame02:38.jpg...\n",
            "Uploading: /content/frames/roman_mp4_frame02:39.jpg...\n",
            "Uploading: /content/frames/roman_mp4_frame02:40.jpg...\n",
            "Uploading: /content/frames/roman_mp4_frame02:41.jpg...\n",
            "Uploading: /content/frames/roman_mp4_frame02:42.jpg...\n",
            "Uploading: /content/frames/roman_mp4_frame02:43.jpg...\n",
            "Uploading: /content/frames/roman_mp4_frame02:44.jpg...\n",
            "Uploading: /content/frames/roman_mp4_frame02:45.jpg...\n",
            "Uploading: /content/frames/roman_mp4_frame02:46.jpg...\n",
            "Uploading: /content/frames/roman_mp4_frame02:47.jpg...\n",
            "Uploading: /content/frames/roman_mp4_frame02:48.jpg...\n",
            "Uploading: /content/frames/roman_mp4_frame02:49.jpg...\n",
            "Uploading: /content/frames/roman_mp4_frame02:50.jpg...\n",
            "Uploading: /content/frames/roman_mp4_frame02:51.jpg...\n",
            "Uploading: /content/frames/roman_mp4_frame02:52.jpg...\n",
            "Uploading: /content/frames/roman_mp4_frame02:53.jpg...\n",
            "Uploading: /content/frames/roman_mp4_frame02:54.jpg...\n",
            "Uploading: /content/frames/roman_mp4_frame02:55.jpg...\n",
            "Uploading: /content/frames/roman_mp4_frame02:56.jpg...\n",
            "Uploading: /content/frames/roman_mp4_frame02:57.jpg...\n",
            "Uploading: /content/frames/roman_mp4_frame02:58.jpg...\n",
            "Uploading: /content/frames/roman_mp4_frame02:59.jpg...\n",
            "Uploading: /content/frames/roman_mp4_frame03:00.jpg...\n",
            "Uploading: /content/frames/roman_mp4_frame03:01.jpg...\n",
            "Uploading: /content/frames/roman_mp4_frame03:02.jpg...\n",
            "Uploading: /content/frames/roman_mp4_frame03:03.jpg...\n",
            "Uploading: /content/frames/roman_mp4_frame03:04.jpg...\n",
            "Uploading: /content/frames/roman_mp4_frame03:05.jpg...\n",
            "Uploading: /content/frames/roman_mp4_frame03:06.jpg...\n",
            "Uploading: /content/frames/roman_mp4_frame03:07.jpg...\n",
            "Uploading: /content/frames/roman_mp4_frame03:08.jpg...\n",
            "Uploading: /content/frames/roman_mp4_frame03:09.jpg...\n",
            "Uploading: /content/frames/roman_mp4_frame03:10.jpg...\n",
            "Uploading: /content/frames/roman_mp4_frame03:11.jpg...\n",
            "Uploading: /content/frames/roman_mp4_frame03:12.jpg...\n",
            "Uploading: /content/frames/roman_mp4_frame03:13.jpg...\n",
            "Uploading: /content/frames/roman_mp4_frame03:14.jpg...\n",
            "Uploading: /content/frames/roman_mp4_frame03:15.jpg...\n",
            "Uploading: /content/frames/roman_mp4_frame03:16.jpg...\n",
            "Uploading: /content/frames/roman_mp4_frame03:17.jpg...\n",
            "Uploading: /content/frames/roman_mp4_frame03:18.jpg...\n",
            "Uploading: /content/frames/roman_mp4_frame03:19.jpg...\n",
            "Uploading: /content/frames/roman_mp4_frame03:20.jpg...\n",
            "Uploading: /content/frames/roman_mp4_frame03:21.jpg...\n",
            "Uploading: /content/frames/roman_mp4_frame03:22.jpg...\n",
            "Uploading: /content/frames/roman_mp4_frame03:23.jpg...\n",
            "Uploading: /content/frames/roman_mp4_frame03:24.jpg...\n",
            "Uploading: /content/frames/roman_mp4_frame03:25.jpg...\n",
            "Uploading: /content/frames/roman_mp4_frame03:26.jpg...\n",
            "Completed file uploads!\n",
            "\n",
            "Uploaded: 207 files\n"
          ]
        }
      ]
    },
    {
      "cell_type": "code",
      "source": [
        "!rm -rf output"
      ],
      "metadata": {
        "id": "jTxvYvCIVZ6_"
      },
      "execution_count": 51,
      "outputs": []
    },
    {
      "cell_type": "code",
      "source": [
        "pdf_name = \"wikipedia.pdf\"\n",
        "first = 1\n",
        "last = 39"
      ],
      "metadata": {
        "id": "BzUt8L2FPKZE"
      },
      "execution_count": 52,
      "outputs": []
    },
    {
      "cell_type": "code",
      "source": [
        "path = pathlib.Path(pdf_name).exists()\n",
        "if not path:\n",
        "  print(\"PDF not found!\")"
      ],
      "metadata": {
        "id": "OLcM08IZPKZp"
      },
      "execution_count": 53,
      "outputs": []
    },
    {
      "cell_type": "code",
      "source": [
        "# Extract PDF images\n",
        "out_dir = \"output\"\n",
        "!mkdir {out_dir}\n",
        "!pdftoppm {pdf_name} -f {first} -l {last} {out_dir}/images -jpeg\n",
        "!ls output"
      ],
      "metadata": {
        "colab": {
          "base_uri": "https://localhost:8080/"
        },
        "id": "_B8ii-hHPKbR",
        "outputId": "8ece1553-3bc0-47bd-e3b2-8b3bdfc23631"
      },
      "execution_count": 54,
      "outputs": [
        {
          "output_type": "stream",
          "name": "stdout",
          "text": [
            "images-01.jpg  images-08.jpg  images-15.jpg  images-22.jpg  images-29.jpg  images-36.jpg\n",
            "images-02.jpg  images-09.jpg  images-16.jpg  images-23.jpg  images-30.jpg  images-37.jpg\n",
            "images-03.jpg  images-10.jpg  images-17.jpg  images-24.jpg  images-31.jpg  images-38.jpg\n",
            "images-04.jpg  images-11.jpg  images-18.jpg  images-25.jpg  images-32.jpg  images-39.jpg\n",
            "images-05.jpg  images-12.jpg  images-19.jpg  images-26.jpg  images-33.jpg\n",
            "images-06.jpg  images-13.jpg  images-20.jpg  images-27.jpg  images-34.jpg\n",
            "images-07.jpg  images-14.jpg  images-21.jpg  images-28.jpg  images-35.jpg\n"
          ]
        }
      ]
    },
    {
      "cell_type": "code",
      "source": [
        "import PIL.Image\n",
        "images = []\n",
        "for i in range(first, last):\n",
        "  id = f\"0{i}\" if i < 10 else i\n",
        "  img = PIL.Image.open(f\"{out_dir}/images-{id}.jpg\")\n",
        "  img.thumbnail([600, 600])\n",
        "  images.append(img)"
      ],
      "metadata": {
        "id": "uKg52aB7PKdt"
      },
      "execution_count": 55,
      "outputs": []
    },
    {
      "cell_type": "code",
      "source": [
        "# Extract text from those images\n",
        "for page_number in range(first,last+1):\n",
        "  page_number = f\"{page_number:02d}\"\n",
        "  ! pdftotext -f {page_number} -l {page_number} {pdf_name} test.txt\n",
        "  ! mv test.txt {out_dir}/text-{page_number}.txt"
      ],
      "metadata": {
        "id": "aeuXFBOmPKiC"
      },
      "execution_count": 56,
      "outputs": []
    },
    {
      "cell_type": "code",
      "source": [
        "!ls output"
      ],
      "metadata": {
        "colab": {
          "base_uri": "https://localhost:8080/"
        },
        "id": "o8B9Xx_HPKkI",
        "outputId": "35e75020-4af5-4757-88b3-8104b54b8c50"
      },
      "execution_count": 57,
      "outputs": [
        {
          "output_type": "stream",
          "name": "stdout",
          "text": [
            "images-01.jpg  images-13.jpg  images-25.jpg  images-37.jpg  text-10.txt  text-22.txt  text-34.txt\n",
            "images-02.jpg  images-14.jpg  images-26.jpg  images-38.jpg  text-11.txt  text-23.txt  text-35.txt\n",
            "images-03.jpg  images-15.jpg  images-27.jpg  images-39.jpg  text-12.txt  text-24.txt  text-36.txt\n",
            "images-04.jpg  images-16.jpg  images-28.jpg  text-01.txt    text-13.txt  text-25.txt  text-37.txt\n",
            "images-05.jpg  images-17.jpg  images-29.jpg  text-02.txt    text-14.txt  text-26.txt  text-38.txt\n",
            "images-06.jpg  images-18.jpg  images-30.jpg  text-03.txt    text-15.txt  text-27.txt  text-39.txt\n",
            "images-07.jpg  images-19.jpg  images-31.jpg  text-04.txt    text-16.txt  text-28.txt\n",
            "images-08.jpg  images-20.jpg  images-32.jpg  text-05.txt    text-17.txt  text-29.txt\n",
            "images-09.jpg  images-21.jpg  images-33.jpg  text-06.txt    text-18.txt  text-30.txt\n",
            "images-10.jpg  images-22.jpg  images-34.jpg  text-07.txt    text-19.txt  text-31.txt\n",
            "images-11.jpg  images-23.jpg  images-35.jpg  text-08.txt    text-20.txt  text-32.txt\n",
            "images-12.jpg  images-24.jpg  images-36.jpg  text-09.txt    text-21.txt  text-33.txt\n"
          ]
        }
      ]
    },
    {
      "cell_type": "code",
      "source": [
        "import tqdm\n",
        "\n",
        "files = []\n",
        "image_files = list(pathlib.Path(\"output\").glob('images-*.jpg'))\n",
        "for img in tqdm.tqdm(image_files):\n",
        "    files.append(genai.upload_file(img))\n",
        "\n",
        "texts = [t.read_text() for t in pathlib.Path(\"output\").glob('text-*.txt')]\n",
        "textbook = []\n",
        "for page, (text, image) in enumerate(zip(texts, files)):\n",
        "  textbook.append(f'## Page {first+page} ##')\n",
        "  textbook.append(text)\n",
        "  textbook.append(image)"
      ],
      "metadata": {
        "colab": {
          "base_uri": "https://localhost:8080/"
        },
        "id": "oYIvDlg6P1kR",
        "outputId": "41e560d9-8096-418b-dbbe-b05c0d6e6840"
      },
      "execution_count": 58,
      "outputs": [
        {
          "output_type": "stream",
          "name": "stderr",
          "text": [
            "100%|██████████| 39/39 [00:37<00:00,  1.03it/s]\n"
          ]
        }
      ]
    },
    {
      "cell_type": "code",
      "source": [
        "model = genai.GenerativeModel(model_name='gemini-1.5-pro-latest')"
      ],
      "metadata": {
        "id": "6rIjmFO9P1mv"
      },
      "execution_count": 59,
      "outputs": []
    },
    {
      "cell_type": "code",
      "source": [
        "config = {\n",
        "  \"response_mime_type\": \"application/json\",\n",
        "}\n",
        "options = {\n",
        "    \"timeout\": 600\n",
        "}"
      ],
      "metadata": {
        "id": "vpWJfhQQP1o0"
      },
      "execution_count": 60,
      "outputs": []
    },
    {
      "cell_type": "code",
      "source": [
        "# First task: summarize the key bullet points in the paper\n",
        "prompt = \"Give me 10 bulletpoints from this text: \""
      ],
      "metadata": {
        "id": "yLCYpH66P1rV"
      },
      "execution_count": 142,
      "outputs": []
    },
    {
      "cell_type": "code",
      "source": [
        "response = model.generate_content(contents = [prompt] + textbook, generation_config=config, request_options=options )"
      ],
      "metadata": {
        "id": "DngjHjmhP1tg"
      },
      "execution_count": 143,
      "outputs": []
    },
    {
      "cell_type": "code",
      "source": [
        "from IPython.display import Markdown\n",
        "import json\n",
        "json_data = json.loads(response.text)"
      ],
      "metadata": {
        "id": "tySWmwRyP1vu"
      },
      "execution_count": 144,
      "outputs": []
    },
    {
      "cell_type": "code",
      "source": [
        "json_data"
      ],
      "metadata": {
        "colab": {
          "base_uri": "https://localhost:8080/"
        },
        "id": "fAifIneBkBid",
        "outputId": "056e7162-b853-4748-c227-de7adf6523bc"
      },
      "execution_count": 145,
      "outputs": [
        {
          "output_type": "execute_result",
          "data": {
            "text/plain": [
              "['The Roman Empire spanned a vast period, from the fall of the Roman Republic in 27 BC to the fall of Constantinople in 1453 AD.',\n",
              " 'Augustus, the first Roman Emperor, established principles of dynastic succession, leading to the Julio-Claudian dynasty.',\n",
              " 'The Roman Empire reached its peak size under Trajan in 117 AD, encompassing territory from Britain to the Persian Gulf.',\n",
              " 'The Crisis of the Third Century, marked by invasions, civil strife, and economic instability, led to the division of the Empire into Eastern and Western halves.',\n",
              " \"Diocletian's reforms stabilized the Empire by dividing it into a Tetrarchy, with four co-rulers, and establishing a new administrative system.\",\n",
              " 'Constantine the Great reunited the Empire and established Constantinople as the new capital, marking the beginning of the Byzantine Empire.',\n",
              " 'The Western Roman Empire declined due to Germanic migrations and invasions, culminating in its fall in 476 AD.',\n",
              " 'The Eastern Roman Empire, also known as the Byzantine Empire, continued for centuries, preserving Roman traditions and culture.',\n",
              " \"The Roman Empire's legacy is vast, influencing law, language, architecture, and political systems across the world.\",\n",
              " 'The history of the Roman Empire is a complex and fascinating story of power, politics, and cultural transformation.']"
            ]
          },
          "metadata": {},
          "execution_count": 145
        }
      ]
    },
    {
      "cell_type": "code",
      "source": [
        "import matplotlib.pyplot as plt\n",
        "import matplotlib.image as mpimg\n",
        "\n",
        "def display_image(frame_id: str):\n",
        "  # Load the image from file\n",
        "  file = \"roman_mp4_frame\"\n",
        "  img = mpimg.imread(f'/content/frames/{file}{frame_id}.jpg')\n",
        "\n",
        "  # Display the image\n",
        "  plt.imshow(img)\n",
        "  plt.axis('off')  # Turn off axis\n",
        "  plt.show()"
      ],
      "metadata": {
        "id": "P0rRmhC5PKme"
      },
      "execution_count": 83,
      "outputs": []
    },
    {
      "cell_type": "code",
      "source": [
        "statements = \" \".join(json_data)"
      ],
      "metadata": {
        "id": "NmLwqeZ1SQEs"
      },
      "execution_count": 91,
      "outputs": []
    },
    {
      "cell_type": "code",
      "source": [
        "# Asking for matching frames\n",
        "# Create the prompt.\n",
        "prompt = f\"Give me 10 unique frames and its timestamp that match these 10 sentences: {statements}.\""
      ],
      "metadata": {
        "id": "lELU2cczgDRo"
      },
      "execution_count": 185,
      "outputs": []
    },
    {
      "cell_type": "code",
      "source": [
        "# Set the model to Gemini 1.5 Pro.\n",
        "model = genai.GenerativeModel(model_name=\"models/gemini-1.5-pro-latest\")\n",
        "\n",
        "# Make GenerateContent request with the structure described above.\n",
        "def make_request(prompt, files):\n",
        "  request = [prompt]\n",
        "  for file in files:\n",
        "    request.append(file.timestamp)\n",
        "    request.append(file.response)\n",
        "  return request\n",
        "\n",
        "# Make the LLM request.\n",
        "request = make_request(prompt, uploaded_files)\n",
        "config = {\n",
        "  \"response_mime_type\": \"application/json\",\n",
        "}\n",
        "options = {\n",
        "    \"timeout\": 600\n",
        "}\n",
        "response = model.generate_content(request,request_options=options, generation_config=config)\n",
        "print(response.text)"
      ],
      "metadata": {
        "colab": {
          "base_uri": "https://localhost:8080/",
          "height": 250
        },
        "id": "FXKjQDtsRyjN",
        "outputId": "d5fb23ee-023b-41a8-ccd9-3509739a5c24"
      },
      "execution_count": 186,
      "outputs": [
        {
          "output_type": "stream",
          "name": "stdout",
          "text": [
            "[\n",
            "    {\"frame\": \"The Roman Empire began in 27 BC with the fall of the Roman Republic and the rise of Emperor Augustus.\", \"timestamp\": \"00:59\"},\n",
            "    {\"frame\": \"The empire expanded significantly beyond the Italian Peninsula, conquering territories across Europe, Africa, and Asia.\", \"timestamp\": \"01:15\"},\n",
            "    {\"frame\": \"The Julio-Claudian dynasty, starting with Augustus, ruled for several decades, followed by the Flavian dynasty and the Nerva-Antonine dynasty.\", \"timestamp\": \"01:10\"},\n",
            "    {\"frame\": \"The Five Good Emperors, including Nerva, Trajan, Hadrian, Antoninus Pius, and Marcus Aurelius, marked a period of peace and prosperity.\", \"timestamp\": \"01:08\"}, \n",
            "    {\"frame\": \"The reign of Commodus, son of Marcus Aurelius, is often considered the beginning of the Roman Empire's decline.\", \"timestamp\": \"01:09\"},\n",
            "    {\"frame\": \"The Crisis of the Third Century was a period of instability and turmoil, with numerous emperors being assassinated or overthrown. \", \"timestamp\": \"02:53\"},\n",
            "    {\"frame\": \"Emperor Diocletian implemented significant reforms, including dividing the empire into eastern and western halves.\", \"timestamp\": \"02:18\"}, \n",
            "    {\"frame\": \"Constantine the Great became the first Christian emperor and established Constantinople as the new capital of the Eastern Roman Empire.\", \"timestamp\": \"03:05\"},\n",
            "    {\"frame\": \"The Western Roman Empire fell in 476 AD with the deposition of Romulus Augustulus by the Germanic leader Odoacer.\", \"timestamp\": \"02:56\"},\n",
            "    {\"frame\": \"The Eastern Roman Empire, also known as the Byzantine Empire, continued for centuries until its fall in 1453 AD.\", \"timestamp\": \"03:05\"}\n",
            "]\n",
            "\n"
          ]
        }
      ]
    },
    {
      "cell_type": "code",
      "source": [
        "!pip install gtts"
      ],
      "metadata": {
        "colab": {
          "base_uri": "https://localhost:8080/"
        },
        "id": "OiIJJ7mNWmCv",
        "outputId": "79bd30aa-8219-46f4-c879-d3b64335c634"
      },
      "execution_count": 74,
      "outputs": [
        {
          "output_type": "stream",
          "name": "stdout",
          "text": [
            "Collecting gtts\n",
            "  Downloading gTTS-2.5.1-py3-none-any.whl (29 kB)\n",
            "Requirement already satisfied: requests<3,>=2.27 in /usr/local/lib/python3.10/dist-packages (from gtts) (2.31.0)\n",
            "Requirement already satisfied: click<8.2,>=7.1 in /usr/local/lib/python3.10/dist-packages (from gtts) (8.1.7)\n",
            "Requirement already satisfied: charset-normalizer<4,>=2 in /usr/local/lib/python3.10/dist-packages (from requests<3,>=2.27->gtts) (3.3.2)\n",
            "Requirement already satisfied: idna<4,>=2.5 in /usr/local/lib/python3.10/dist-packages (from requests<3,>=2.27->gtts) (3.7)\n",
            "Requirement already satisfied: urllib3<3,>=1.21.1 in /usr/local/lib/python3.10/dist-packages (from requests<3,>=2.27->gtts) (2.0.7)\n",
            "Requirement already satisfied: certifi>=2017.4.17 in /usr/local/lib/python3.10/dist-packages (from requests<3,>=2.27->gtts) (2024.2.2)\n",
            "Installing collected packages: gtts\n",
            "Successfully installed gtts-2.5.1\n"
          ]
        }
      ]
    },
    {
      "cell_type": "code",
      "source": [
        "!pip install mutagen"
      ],
      "metadata": {
        "colab": {
          "base_uri": "https://localhost:8080/"
        },
        "id": "NS-hyNSjb3yF",
        "outputId": "b7b1db68-8bb8-431b-8598-3447c490ece2"
      },
      "execution_count": 111,
      "outputs": [
        {
          "output_type": "stream",
          "name": "stdout",
          "text": [
            "Collecting mutagen\n",
            "  Downloading mutagen-1.47.0-py3-none-any.whl (194 kB)\n",
            "\u001b[?25l     \u001b[90m━━━━━━━━━━━━━━━━━━━━━━━━━━━━━━━━━━━━━━━━\u001b[0m \u001b[32m0.0/194.4 kB\u001b[0m \u001b[31m?\u001b[0m eta \u001b[36m-:--:--\u001b[0m\r\u001b[2K     \u001b[91m━━━━━━━━━━━━━━━━━━━━━━━━━━━━━━━━━━━━━\u001b[0m\u001b[91m╸\u001b[0m\u001b[90m━━\u001b[0m \u001b[32m184.3/194.4 kB\u001b[0m \u001b[31m5.2 MB/s\u001b[0m eta \u001b[36m0:00:01\u001b[0m\r\u001b[2K     \u001b[90m━━━━━━━━━━━━━━━━━━━━━━━━━━━━━━━━━━━━━━━━\u001b[0m \u001b[32m194.4/194.4 kB\u001b[0m \u001b[31m3.9 MB/s\u001b[0m eta \u001b[36m0:00:00\u001b[0m\n",
            "\u001b[?25hInstalling collected packages: mutagen\n",
            "Successfully installed mutagen-1.47.0\n"
          ]
        }
      ]
    },
    {
      "cell_type": "code",
      "source": [
        "from mutagen.mp3 import MP3\n",
        "def get_audio_duration(file_path):\n",
        "    audio = MP3(file_path)\n",
        "    duration_in_seconds = audio.info.length\n",
        "    return duration_in_seconds\n"
      ],
      "metadata": {
        "id": "PUM8VLQbb0eS"
      },
      "execution_count": 112,
      "outputs": []
    },
    {
      "cell_type": "code",
      "source": [
        "from gtts import gTTS\n",
        "from IPython.display import Audio\n",
        "from IPython.display import display\n",
        "import time\n",
        "\n",
        "def play_audio(text: str):\n",
        "  tts = gTTS(f\"{text}\".format(text))\n",
        "  tts.save(f'1_{text}.wav')\n",
        "  sound_file = f'1_{text}.wav'\n",
        "  wn = Audio(sound_file, autoplay=True) ##\n",
        "  display(wn)\n",
        "  # Wait for the duration of the audio file\n",
        "  time.sleep(get_audio_duration(sound_file)+0.2)"
      ],
      "metadata": {
        "id": "tzv8BoUwWkPf"
      },
      "execution_count": 192,
      "outputs": []
    },
    {
      "cell_type": "code",
      "source": [
        "timestamps = json.loads(response.text)"
      ],
      "metadata": {
        "id": "KF4n_BfZWUU8"
      },
      "execution_count": 187,
      "outputs": []
    },
    {
      "cell_type": "code",
      "source": [
        "from IPython.display import Image, display, Audio, clear_output\n",
        "import time\n",
        "\n",
        "def plot_video_book():\n",
        "  print(\"Procesing content.......\")\n",
        "  time.sleep(1)\n",
        "  print(\"Procesing content.......\")\n",
        "  time.sleep(1)\n",
        "  for element in timestamps:\n",
        "    clear_output(wait=True)\n",
        "    frame_id = element[\"timestamp\"]\n",
        "    frame_summary = element[\"frame\"]\n",
        "    # # Display image\n",
        "    display_image(frame_id)\n",
        "    play_audio(frame_summary)"
      ],
      "metadata": {
        "id": "c14jvzOYRybl"
      },
      "execution_count": 205,
      "outputs": []
    },
    {
      "cell_type": "code",
      "source": [
        "from ipywidgets import widgets, VBox, Output\n",
        "from IPython.display import display\n",
        "\n",
        "# Define a function to process user input\n",
        "def process_input(text):\n",
        "    # Process the user input\n",
        "    plot_video_book()\n",
        "\n",
        "# Define a function to handle button click\n",
        "def on_button_clicked(b):\n",
        "    with out:\n",
        "        out.clear_output()\n",
        "        # Get the user input\n",
        "        user_input = text_input.value\n",
        "        # Process the user input\n",
        "        processed_input = process_input(user_input)\n",
        "        print(f\"Processed input: {processed_input}\")\n",
        "\n",
        "# Create a text input widget\n",
        "text_input = widgets.Text(placeholder='PDF Name')\n",
        "\n",
        "# Create a button widget\n",
        "button = widgets.Button(description=\"Visualize the PDF!\")\n",
        "\n",
        "# Register the button click event\n",
        "button.on_click(on_button_clicked)\n",
        "\n",
        "# Create an output widget to display results\n",
        "out = Output()\n",
        "\n",
        "# Display the text input, button, and output widget vertically\n",
        "display(VBox([text_input, button, out]))"
      ],
      "metadata": {
        "colab": {
          "base_uri": "https://localhost:8080/",
          "height": 81,
          "referenced_widgets": [
            "ae89394af5bd411d9dc2151c407be333",
            "7f697958db024d349d8124c766e9d886",
            "17d1a56403bf47709554d0d252651bc2",
            "e0282ffa204e43de910fd57048bce07a",
            "6da9033f73b441458bce041a31f8a20f",
            "9a258b3f8e6f4a6aa34d1aaa938ef83c",
            "a7200fb3527242ff8c71d71d5e36d5e7",
            "220946b1f734498d82d94a0d445484e2",
            "691c07b4c4414593a4bb65525ecffbf8",
            "9359f3123bdf45fc9c8b266d3fe48cdf"
          ]
        },
        "id": "EQukXTFfRyKY",
        "outputId": "cedcca87-6c4b-44bf-e53d-cbb02424b0e4"
      },
      "execution_count": 206,
      "outputs": [
        {
          "output_type": "display_data",
          "data": {
            "text/plain": [
              "VBox(children=(Text(value='', placeholder='PDF Name'), Button(description='Visualize the PDF!', style=ButtonSt…"
            ],
            "application/vnd.jupyter.widget-view+json": {
              "version_major": 2,
              "version_minor": 0,
              "model_id": "ae89394af5bd411d9dc2151c407be333"
            }
          },
          "metadata": {}
        }
      ]
    },
    {
      "cell_type": "code",
      "source": [],
      "metadata": {
        "id": "JwWCdCxERyFr"
      },
      "execution_count": null,
      "outputs": []
    },
    {
      "cell_type": "code",
      "source": [],
      "metadata": {
        "id": "87Lv18FiRyDW"
      },
      "execution_count": null,
      "outputs": []
    },
    {
      "cell_type": "code",
      "source": [],
      "metadata": {
        "id": "e-4bpHgjRyBH"
      },
      "execution_count": null,
      "outputs": []
    },
    {
      "cell_type": "code",
      "source": [],
      "metadata": {
        "id": "akNyFBDHRx-p"
      },
      "execution_count": null,
      "outputs": []
    },
    {
      "cell_type": "code",
      "source": [],
      "metadata": {
        "id": "XhWmy0ntRx8J"
      },
      "execution_count": null,
      "outputs": []
    },
    {
      "cell_type": "code",
      "source": [],
      "metadata": {
        "id": "v3YRzZdJRx5D"
      },
      "execution_count": null,
      "outputs": []
    }
  ]
}